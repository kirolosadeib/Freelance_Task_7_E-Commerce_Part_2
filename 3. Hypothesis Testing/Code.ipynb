{
 "cells": [
  {
   "cell_type": "code",
   "execution_count": 45,
   "id": "137167be",
   "metadata": {},
   "outputs": [],
   "source": [
    "import pandas as pd\n",
    "import numpy as np\n",
    "import plotly.express as px\n",
    "import matplotlib.pyplot as plt\n",
    "import plotly.graph_objects as go\n",
    "from scipy import signal\n",
    "import seaborn as sns\n",
    "from scipy.stats import spearmanr"
   ]
  },
  {
   "cell_type": "code",
   "execution_count": 2,
   "id": "ced03d8d",
   "metadata": {},
   "outputs": [],
   "source": [
    "import scikit_posthocs as sp\n",
    "import numpy as np\n",
    "from scipy import stats\n",
    "import statsmodels.api as sm\n",
    "import json"
   ]
  },
  {
   "cell_type": "code",
   "execution_count": 3,
   "id": "5fb12010",
   "metadata": {},
   "outputs": [],
   "source": [
    "import warnings\n",
    "warnings.filterwarnings('ignore')"
   ]
  },
  {
   "cell_type": "markdown",
   "id": "45b084f1",
   "metadata": {},
   "source": [
    "# 3. Hypothesis Testing"
   ]
  },
  {
   "cell_type": "code",
   "execution_count": 19,
   "id": "8186a638",
   "metadata": {},
   "outputs": [],
   "source": [
    "Daily_level_Data=pd.read_csv(\"Data_Daily_level.csv\")\n",
    "#Drop ROAS (estimated_smoothened) as it is the expected valuie and we want to perform hypothesis testing\n",
    "#on ROAS (up to Date)\n",
    "Daily_level_Data.drop(columns=[\"ROAS (estimated)_smoothened\"],inplace=True)"
   ]
  },
  {
   "cell_type": "code",
   "execution_count": 20,
   "id": "5283bc40",
   "metadata": {},
   "outputs": [
    {
     "data": {
      "text/html": [
       "<div>\n",
       "<style scoped>\n",
       "    .dataframe tbody tr th:only-of-type {\n",
       "        vertical-align: middle;\n",
       "    }\n",
       "\n",
       "    .dataframe tbody tr th {\n",
       "        vertical-align: top;\n",
       "    }\n",
       "\n",
       "    .dataframe thead th {\n",
       "        text-align: right;\n",
       "    }\n",
       "</style>\n",
       "<table border=\"1\" class=\"dataframe\">\n",
       "  <thead>\n",
       "    <tr style=\"text-align: right;\">\n",
       "      <th></th>\n",
       "      <th>Date_Daily_Level</th>\n",
       "      <th>Average Signups</th>\n",
       "      <th>Active %</th>\n",
       "      <th>CPA</th>\n",
       "      <th>Average observed profit</th>\n",
       "      <th>Estimated LTV</th>\n",
       "      <th>New Users</th>\n",
       "      <th>Users</th>\n",
       "      <th>Bounces</th>\n",
       "      <th>Pageviews</th>\n",
       "      <th>Page Load Time (ms)</th>\n",
       "      <th>ROAS (up to date)_smoothened</th>\n",
       "    </tr>\n",
       "  </thead>\n",
       "  <tbody>\n",
       "    <tr>\n",
       "      <th>0</th>\n",
       "      <td>2021-08-01</td>\n",
       "      <td>1101</td>\n",
       "      <td>0.022707</td>\n",
       "      <td>31.362341</td>\n",
       "      <td>136.178029</td>\n",
       "      <td>143.416200</td>\n",
       "      <td>NaN</td>\n",
       "      <td>NaN</td>\n",
       "      <td>NaN</td>\n",
       "      <td>NaN</td>\n",
       "      <td>NaN</td>\n",
       "      <td>4.232135</td>\n",
       "    </tr>\n",
       "    <tr>\n",
       "      <th>1</th>\n",
       "      <td>2021-08-02</td>\n",
       "      <td>802</td>\n",
       "      <td>0.017456</td>\n",
       "      <td>39.260330</td>\n",
       "      <td>143.763778</td>\n",
       "      <td>149.335326</td>\n",
       "      <td>NaN</td>\n",
       "      <td>NaN</td>\n",
       "      <td>NaN</td>\n",
       "      <td>NaN</td>\n",
       "      <td>NaN</td>\n",
       "      <td>4.055284</td>\n",
       "    </tr>\n",
       "    <tr>\n",
       "      <th>2</th>\n",
       "      <td>2021-08-03</td>\n",
       "      <td>929</td>\n",
       "      <td>0.020452</td>\n",
       "      <td>33.946871</td>\n",
       "      <td>141.372034</td>\n",
       "      <td>147.895183</td>\n",
       "      <td>NaN</td>\n",
       "      <td>NaN</td>\n",
       "      <td>NaN</td>\n",
       "      <td>NaN</td>\n",
       "      <td>NaN</td>\n",
       "      <td>3.906417</td>\n",
       "    </tr>\n",
       "    <tr>\n",
       "      <th>3</th>\n",
       "      <td>2021-08-04</td>\n",
       "      <td>910</td>\n",
       "      <td>0.019780</td>\n",
       "      <td>36.023701</td>\n",
       "      <td>149.599429</td>\n",
       "      <td>155.909300</td>\n",
       "      <td>NaN</td>\n",
       "      <td>NaN</td>\n",
       "      <td>NaN</td>\n",
       "      <td>NaN</td>\n",
       "      <td>NaN</td>\n",
       "      <td>3.863493</td>\n",
       "    </tr>\n",
       "    <tr>\n",
       "      <th>4</th>\n",
       "      <td>2021-08-05</td>\n",
       "      <td>1025</td>\n",
       "      <td>0.015610</td>\n",
       "      <td>38.087794</td>\n",
       "      <td>140.391415</td>\n",
       "      <td>145.375581</td>\n",
       "      <td>NaN</td>\n",
       "      <td>NaN</td>\n",
       "      <td>NaN</td>\n",
       "      <td>NaN</td>\n",
       "      <td>NaN</td>\n",
       "      <td>3.954360</td>\n",
       "    </tr>\n",
       "  </tbody>\n",
       "</table>\n",
       "</div>"
      ],
      "text/plain": [
       "  Date_Daily_Level  Average Signups  Active %        CPA  \\\n",
       "0       2021-08-01             1101  0.022707  31.362341   \n",
       "1       2021-08-02              802  0.017456  39.260330   \n",
       "2       2021-08-03              929  0.020452  33.946871   \n",
       "3       2021-08-04              910  0.019780  36.023701   \n",
       "4       2021-08-05             1025  0.015610  38.087794   \n",
       "\n",
       "   Average observed profit  Estimated LTV  New Users  Users  Bounces  \\\n",
       "0               136.178029     143.416200        NaN    NaN      NaN   \n",
       "1               143.763778     149.335326        NaN    NaN      NaN   \n",
       "2               141.372034     147.895183        NaN    NaN      NaN   \n",
       "3               149.599429     155.909300        NaN    NaN      NaN   \n",
       "4               140.391415     145.375581        NaN    NaN      NaN   \n",
       "\n",
       "   Pageviews  Page Load Time (ms)  ROAS (up to date)_smoothened  \n",
       "0        NaN                  NaN                      4.232135  \n",
       "1        NaN                  NaN                      4.055284  \n",
       "2        NaN                  NaN                      3.906417  \n",
       "3        NaN                  NaN                      3.863493  \n",
       "4        NaN                  NaN                      3.954360  "
      ]
     },
     "execution_count": 20,
     "metadata": {},
     "output_type": "execute_result"
    }
   ],
   "source": [
    "Daily_level_Data.head()"
   ]
  },
  {
   "cell_type": "markdown",
   "id": "40f05460",
   "metadata": {},
   "source": [
    "### Hypothesis 1"
   ]
  },
  {
   "cell_type": "markdown",
   "id": "ddc224c0",
   "metadata": {},
   "source": [
    "**Hypothesis to check** :  Decline in ROAS is linkd with increase in the average page load time\n",
    "<br>**Null Hypothesis** : There in is no relation between ROAS and associated average page load time"
   ]
  },
  {
   "cell_type": "code",
   "execution_count": 28,
   "id": "7b03124f",
   "metadata": {},
   "outputs": [],
   "source": [
    "hypothesis_1=Daily_level_Data[~Daily_level_Data[\"Page Load Time (ms)\"].isna()][[\"Page Load Time (ms)\",\"ROAS (up to date)_smoothened\"]]"
   ]
  },
  {
   "cell_type": "code",
   "execution_count": 29,
   "id": "79122ba6",
   "metadata": {},
   "outputs": [
    {
     "name": "stdout",
     "output_type": "stream",
     "text": [
      "Correlation between Page Load Time and ROAS: -0.07610040434295756\n"
     ]
    }
   ],
   "source": [
    "correlation = hypothesis_1['Page Load Time (ms)'].corr(hypothesis_1['ROAS (up to date)_smoothened'])\n",
    "print(f\"Correlation between Page Load Time and ROAS: {correlation}\")"
   ]
  },
  {
   "cell_type": "markdown",
   "id": "d0ad0e38",
   "metadata": {},
   "source": [
    "* There is weak correlation between both variables"
   ]
  },
  {
   "cell_type": "code",
   "execution_count": 34,
   "id": "d48568c1",
   "metadata": {},
   "outputs": [],
   "source": [
    "X = hypothesis_1['Page Load Time (ms)']\n",
    "X = sm.add_constant(X)  \n",
    "y = hypothesis_1['ROAS (up to date)_smoothened']\n",
    "model = sm.OLS(y, X).fit()"
   ]
  },
  {
   "cell_type": "code",
   "execution_count": 35,
   "id": "99bf362e",
   "metadata": {},
   "outputs": [
    {
     "name": "stdout",
     "output_type": "stream",
     "text": [
      "                                 OLS Regression Results                                 \n",
      "========================================================================================\n",
      "Dep. Variable:     ROAS (up to date)_smoothened   R-squared:                       0.006\n",
      "Model:                                      OLS   Adj. R-squared:                  0.004\n",
      "Method:                           Least Squares   F-statistic:                     3.349\n",
      "Date:                          Mon, 28 Aug 2023   Prob (F-statistic):             0.0677\n",
      "Time:                                  21:51:36   Log-Likelihood:                -492.47\n",
      "No. Observations:                           577   AIC:                             988.9\n",
      "Df Residuals:                               575   BIC:                             997.7\n",
      "Df Model:                                     1                                         \n",
      "Covariance Type:                      nonrobust                                         \n",
      "=======================================================================================\n",
      "                          coef    std err          t      P>|t|      [0.025      0.975]\n",
      "---------------------------------------------------------------------------------------\n",
      "const                   1.8729      0.064     29.341      0.000       1.747       1.998\n",
      "Page Load Time (ms) -5.021e-08   2.74e-08     -1.830      0.068   -1.04e-07    3.68e-09\n",
      "==============================================================================\n",
      "Omnibus:                       85.363   Durbin-Watson:                   0.038\n",
      "Prob(Omnibus):                  0.000   Jarque-Bera (JB):              128.666\n",
      "Skew:                           0.980   Prob(JB):                     1.15e-28\n",
      "Kurtosis:                       4.229   Cond. No.                     6.27e+06\n",
      "==============================================================================\n",
      "\n",
      "Notes:\n",
      "[1] Standard Errors assume that the covariance matrix of the errors is correctly specified.\n",
      "[2] The condition number is large, 6.27e+06. This might indicate that there are\n",
      "strong multicollinearity or other numerical problems.\n"
     ]
    }
   ],
   "source": [
    "print(model.summary())"
   ]
  },
  {
   "cell_type": "markdown",
   "id": "f6f643fd",
   "metadata": {},
   "source": [
    "**At a Threshold significane level of 0.05** : there is no enough evidence to reject Null Hypothesis. "
   ]
  },
  {
   "cell_type": "markdown",
   "id": "b596b6f0",
   "metadata": {},
   "source": [
    "### Hypothesis 2"
   ]
  },
  {
   "cell_type": "markdown",
   "id": "91da3564",
   "metadata": {},
   "source": [
    "**Hypothesis Formulation** :  Decline in ROAS is linked to decrease in the percentage of active users\n",
    "<br>**Null Hypothesis** : There is no relation between ROAS and percentage of active users"
   ]
  },
  {
   "cell_type": "code",
   "execution_count": 41,
   "id": "5f90e024",
   "metadata": {},
   "outputs": [],
   "source": [
    "hypothesis_2=Daily_level_Data[~Daily_level_Data[\"Active %\"].isna()][[\"Active %\",\"ROAS (up to date)_smoothened\"]]"
   ]
  },
  {
   "cell_type": "code",
   "execution_count": 49,
   "id": "9a90e0f9",
   "metadata": {},
   "outputs": [
    {
     "name": "stdout",
     "output_type": "stream",
     "text": [
      "P-value: 8.488550043641476e-33\n"
     ]
    }
   ],
   "source": [
    "#Apply Spearmann Correlation coefficient\n",
    "correlation, p_value = spearmanr(hypothesis_2['Active %'], hypothesis_2['ROAS (up to date)_smoothened'])\n",
    "print(f\"P-value: {p_value}\")"
   ]
  },
  {
   "cell_type": "markdown",
   "id": "f92f5b3c",
   "metadata": {},
   "source": [
    "**At a P-value Threshold significance level of 0.05 :** there is enough evidence to reject Null Hypothesis and validate statistical significance between ROAS and Percentage of active useres."
   ]
  },
  {
   "cell_type": "markdown",
   "id": "8a671903",
   "metadata": {},
   "source": [
    "**Possible Reasons that can cause decrease in percentage of active users that is worth investigation is**:\n",
    "1. Unappealing Website Content\n",
    "2. Poor User Experience\n",
    "3. Drop in product relevenace to existing customers"
   ]
  },
  {
   "cell_type": "markdown",
   "id": "4647b66d",
   "metadata": {},
   "source": [
    "### Hypothesis 3"
   ]
  },
  {
   "cell_type": "markdown",
   "id": "3e2c1c2e",
   "metadata": {},
   "source": [
    "**Hypothesis Formulation** : Decline in ROAS is linked to increase in CPA\n",
    "<br>**Null Hypothesis** : There is no association between CPA and ROAS"
   ]
  },
  {
   "cell_type": "code",
   "execution_count": 50,
   "id": "93c039d7",
   "metadata": {},
   "outputs": [],
   "source": [
    "hypothesis_3=Daily_level_Data[~Daily_level_Data[\"Active %\"].isna()][[\"CPA\",\"ROAS (up to date)_smoothened\"]]"
   ]
  },
  {
   "cell_type": "code",
   "execution_count": 52,
   "id": "77541160",
   "metadata": {},
   "outputs": [
    {
     "name": "stdout",
     "output_type": "stream",
     "text": [
      "P-value: 4.311456921135876e-95\n"
     ]
    }
   ],
   "source": [
    "# Correlation analysis between CPA and ROAS\n",
    "correlation, p_value = stats.pearsonr(hypothesis_3[\"CPA\"], hypothesis_3[\"ROAS (up to date)_smoothened\"])\n",
    "print(f\"P-value: {p_value}\")"
   ]
  },
  {
   "cell_type": "markdown",
   "id": "203b61df",
   "metadata": {},
   "source": [
    "**At a P-value Threshold significance level of 0.05 :** there is enough evidence to reject Null Hypothesis and validate statistical significance between ROAS and CPA (Cost Per Accquisition)."
   ]
  },
  {
   "cell_type": "markdown",
   "id": "f370ad76",
   "metadata": {},
   "source": [
    "**Possible Reasons that can cause higher CPA that is worth investigation is**:\n",
    "1. Higher Advertising Costs\n",
    "2. Increased Competition among competitors\n",
    "3. Less Effective Targeting Strategy"
   ]
  },
  {
   "cell_type": "code",
   "execution_count": 11,
   "id": "a8cfe6fd",
   "metadata": {},
   "outputs": [
    {
     "data": {
      "text/html": [
       "<div>\n",
       "<style scoped>\n",
       "    .dataframe tbody tr th:only-of-type {\n",
       "        vertical-align: middle;\n",
       "    }\n",
       "\n",
       "    .dataframe tbody tr th {\n",
       "        vertical-align: top;\n",
       "    }\n",
       "\n",
       "    .dataframe thead th {\n",
       "        text-align: right;\n",
       "    }\n",
       "</style>\n",
       "<table border=\"1\" class=\"dataframe\">\n",
       "  <thead>\n",
       "    <tr style=\"text-align: right;\">\n",
       "      <th></th>\n",
       "      <th>Date_Monthly_Level</th>\n",
       "      <th>Operating System</th>\n",
       "      <th>Region</th>\n",
       "      <th>Users_1</th>\n",
       "      <th>Bounces_1</th>\n",
       "      <th>Sessions_1</th>\n",
       "      <th>Pageviews_1</th>\n",
       "      <th>Page Load Time (ms)_1</th>\n",
       "      <th>Signups_1</th>\n",
       "      <th>Source / Medium</th>\n",
       "      <th>Users_3</th>\n",
       "      <th>Bounces_3</th>\n",
       "      <th>Sessions_3</th>\n",
       "      <th>Pageviews_3</th>\n",
       "      <th>Page Load Time (ms)_3</th>\n",
       "      <th>Signups_3</th>\n",
       "    </tr>\n",
       "  </thead>\n",
       "  <tbody>\n",
       "    <tr>\n",
       "      <th>0</th>\n",
       "      <td>2021-09-01</td>\n",
       "      <td>[iOS, Android, iOS, iOS, iOS, iOS, iOS, iOS, i...</td>\n",
       "      <td>[Texas, Texas, California, Florida, Georgia, N...</td>\n",
       "      <td>[28670.0, 15790.0, 14785.0, 14520.0, 13700.0, ...</td>\n",
       "      <td>[18461.0, 9601.0, 8490.0, 7697.0, 8014.0, 6691...</td>\n",
       "      <td>[43508.0, 27110.0, 23830.0, 20550.0, 19307.0, ...</td>\n",
       "      <td>[124863.0, 105767.0, 73553.0, 59694.0, 55436.0...</td>\n",
       "      <td>[5045524.0, 6669434.0, 2814674.0, 1961975.0, 1...</td>\n",
       "      <td>[1798.0, 1137.0, 397.0, 661.0, 714.0, 714.0, 7...</td>\n",
       "      <td>[fb / paidsocial, (direct) / (none), m.faceboo...</td>\n",
       "      <td>[170831.0, 90031.0, 74029.0, 34436.0, 33431.0,...</td>\n",
       "      <td>[98944.0, 46391.0, 39355.0, 19413.0, 19307.0, ...</td>\n",
       "      <td>[189927.0, 179744.0, 83128.0, 72971.0, 60117.0...</td>\n",
       "      <td>[365730.0, 804695.0, 173899.0, 336213.0, 24782...</td>\n",
       "      <td>[26251890.0, 10469393.0, 8633498.0, 7425305.0,...</td>\n",
       "      <td>[11399.0, 1878.0, 6268.0, 1587.0, 2248.0, 1719...</td>\n",
       "    </tr>\n",
       "    <tr>\n",
       "      <th>1</th>\n",
       "      <td>2021-10-01</td>\n",
       "      <td>[iOS, Android, iOS, iOS, iOS, iOS, iOS, Androi...</td>\n",
       "      <td>[Texas, Texas, North Carolina, Georgia, Califo...</td>\n",
       "      <td>[24385.0, 17800.0, 11637.0, 11346.0, 11082.0, ...</td>\n",
       "      <td>[13542.0, 10209.0, 6850.0, 6877.0, 6162.0, 629...</td>\n",
       "      <td>[36975.0, 28326.0, 18091.0, 16319.0, 17165.0, ...</td>\n",
       "      <td>[120367.0, 99552.0, 54775.0, 49009.0, 52844.0,...</td>\n",
       "      <td>[5250262.0, 1053655.0, 2683780.0, 1331258.0, 1...</td>\n",
       "      <td>[1375.0, 1349.0, 397.0, 450.0, 582.0, 661.0, 7...</td>\n",
       "      <td>[fb / paidsocial, (direct) / (none), m.faceboo...</td>\n",
       "      <td>[140574.0, 92279.0, 56388.0, 39382.0, 39329.0,...</td>\n",
       "      <td>[78975.0, 47792.0, 29940.0, 14811.0, 22005.0, ...</td>\n",
       "      <td>[156945.0, 178395.0, 63979.0, 44090.0, 84397.0...</td>\n",
       "      <td>[311193.0, 804298.0, 125974.0, 113226.0, 40754...</td>\n",
       "      <td>[14928369.0, 20728177.0, 4494073.0, 7272989.0,...</td>\n",
       "      <td>[9759.0, 1878.0, 3571.0, 3385.0, 2592.0, 1851....</td>\n",
       "    </tr>\n",
       "  </tbody>\n",
       "</table>\n",
       "</div>"
      ],
      "text/plain": [
       "  Date_Monthly_Level                                   Operating System  \\\n",
       "0         2021-09-01  [iOS, Android, iOS, iOS, iOS, iOS, iOS, iOS, i...   \n",
       "1         2021-10-01  [iOS, Android, iOS, iOS, iOS, iOS, iOS, Androi...   \n",
       "\n",
       "                                              Region  \\\n",
       "0  [Texas, Texas, California, Florida, Georgia, N...   \n",
       "1  [Texas, Texas, North Carolina, Georgia, Califo...   \n",
       "\n",
       "                                             Users_1  \\\n",
       "0  [28670.0, 15790.0, 14785.0, 14520.0, 13700.0, ...   \n",
       "1  [24385.0, 17800.0, 11637.0, 11346.0, 11082.0, ...   \n",
       "\n",
       "                                           Bounces_1  \\\n",
       "0  [18461.0, 9601.0, 8490.0, 7697.0, 8014.0, 6691...   \n",
       "1  [13542.0, 10209.0, 6850.0, 6877.0, 6162.0, 629...   \n",
       "\n",
       "                                          Sessions_1  \\\n",
       "0  [43508.0, 27110.0, 23830.0, 20550.0, 19307.0, ...   \n",
       "1  [36975.0, 28326.0, 18091.0, 16319.0, 17165.0, ...   \n",
       "\n",
       "                                         Pageviews_1  \\\n",
       "0  [124863.0, 105767.0, 73553.0, 59694.0, 55436.0...   \n",
       "1  [120367.0, 99552.0, 54775.0, 49009.0, 52844.0,...   \n",
       "\n",
       "                               Page Load Time (ms)_1  \\\n",
       "0  [5045524.0, 6669434.0, 2814674.0, 1961975.0, 1...   \n",
       "1  [5250262.0, 1053655.0, 2683780.0, 1331258.0, 1...   \n",
       "\n",
       "                                           Signups_1  \\\n",
       "0  [1798.0, 1137.0, 397.0, 661.0, 714.0, 714.0, 7...   \n",
       "1  [1375.0, 1349.0, 397.0, 450.0, 582.0, 661.0, 7...   \n",
       "\n",
       "                                     Source / Medium  \\\n",
       "0  [fb / paidsocial, (direct) / (none), m.faceboo...   \n",
       "1  [fb / paidsocial, (direct) / (none), m.faceboo...   \n",
       "\n",
       "                                             Users_3  \\\n",
       "0  [170831.0, 90031.0, 74029.0, 34436.0, 33431.0,...   \n",
       "1  [140574.0, 92279.0, 56388.0, 39382.0, 39329.0,...   \n",
       "\n",
       "                                           Bounces_3  \\\n",
       "0  [98944.0, 46391.0, 39355.0, 19413.0, 19307.0, ...   \n",
       "1  [78975.0, 47792.0, 29940.0, 14811.0, 22005.0, ...   \n",
       "\n",
       "                                          Sessions_3  \\\n",
       "0  [189927.0, 179744.0, 83128.0, 72971.0, 60117.0...   \n",
       "1  [156945.0, 178395.0, 63979.0, 44090.0, 84397.0...   \n",
       "\n",
       "                                         Pageviews_3  \\\n",
       "0  [365730.0, 804695.0, 173899.0, 336213.0, 24782...   \n",
       "1  [311193.0, 804298.0, 125974.0, 113226.0, 40754...   \n",
       "\n",
       "                               Page Load Time (ms)_3  \\\n",
       "0  [26251890.0, 10469393.0, 8633498.0, 7425305.0,...   \n",
       "1  [14928369.0, 20728177.0, 4494073.0, 7272989.0,...   \n",
       "\n",
       "                                           Signups_3  \n",
       "0  [11399.0, 1878.0, 6268.0, 1587.0, 2248.0, 1719...  \n",
       "1  [9759.0, 1878.0, 3571.0, 3385.0, 2592.0, 1851....  "
      ]
     },
     "execution_count": 11,
     "metadata": {},
     "output_type": "execute_result"
    }
   ],
   "source": [
    "Monthly_level_Data=pd.read_csv(\"Data_Monthly_level.csv\")\n",
    "for column in Monthly_level_Data.columns[1:]:\n",
    "    Monthly_level_Data.loc[:,column]=Monthly_level_Data[column].apply(lambda x:x.strip('][').replace(\"'\",\"\").split(','))\n",
    "    Monthly_level_Data.loc[:,column]=Monthly_level_Data[column].apply(lambda x:[temp.strip() for temp in x])\n",
    "    try:\n",
    "        Monthly_level_Data.loc[:,column]=Monthly_level_Data[column].apply(lambda x:[float(temp) for temp in x])\n",
    "    except:\n",
    "        pass\n",
    "Monthly_level_Data.head(2)"
   ]
  }
 ],
 "metadata": {
  "kernelspec": {
   "display_name": "Python 3 (ipykernel)",
   "language": "python",
   "name": "python3"
  },
  "language_info": {
   "codemirror_mode": {
    "name": "ipython",
    "version": 3
   },
   "file_extension": ".py",
   "mimetype": "text/x-python",
   "name": "python",
   "nbconvert_exporter": "python",
   "pygments_lexer": "ipython3",
   "version": "3.9.13"
  }
 },
 "nbformat": 4,
 "nbformat_minor": 5
}
